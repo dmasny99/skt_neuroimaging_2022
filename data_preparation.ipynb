{
 "cells": [
  {
   "cell_type": "code",
   "execution_count": 1,
   "id": "f01a4602",
   "metadata": {},
   "outputs": [],
   "source": [
    "import mne\n",
    "import warnings\n",
    "import matplotlib.pyplot as plt\n",
    "import os\n",
    "import numpy as np\n",
    "from tqdm import tqdm\n",
    "warnings.filterwarnings('ignore')"
   ]
  },
  {
   "cell_type": "code",
   "execution_count": 2,
   "id": "d8fcbc37",
   "metadata": {},
   "outputs": [],
   "source": [
    "def find_common_electrodes(path):\n",
    "    mdd_electrodes_set = []\n",
    "    for elem in os.listdir(path):\n",
    "        data = mne.io.read_raw(path + elem, verbose = False)\n",
    "        mdd_electrodes_set.append(set(data.ch_names))\n",
    "    return set.intersection(*mdd_electrodes_set)"
   ]
  },
  {
   "cell_type": "code",
   "execution_count": 3,
   "id": "d9cf31e4",
   "metadata": {},
   "outputs": [
    {
     "name": "stdout",
     "output_type": "stream",
     "text": [
      "{'C3', 'F4', 'T4', 'C4', 'F7', 'Pz', 'P4', 'Fz', 'O2', 'P3', 'T3', 'Fp2', 'Cz', 'F8', 'T5', 'Fpz', 'F3', 'O1', 'Oz', 'T6', 'Fp1'}\n"
     ]
    }
   ],
   "source": [
    "kz_mdd = find_common_electrodes('data/kz_clean/mdd/')\n",
    "kz_health = find_common_electrodes('data/kz_clean/health/')\n",
    "electrodes_to_use = set.intersection(kz_mdd, kz_health)\n",
    "print(electrodes_to_use)"
   ]
  },
  {
   "cell_type": "markdown",
   "id": "193d89e6",
   "metadata": {},
   "source": [
    "# Cut data into 2s patches (without overlapping)"
   ]
  },
  {
   "cell_type": "code",
   "execution_count": 4,
   "id": "26eff554",
   "metadata": {},
   "outputs": [],
   "source": [
    "Fs = 500\n",
    "electrodes_to_use = set.intersection(kz_mdd, kz_health)\n",
    "window_size = 2 # in seconds"
   ]
  },
  {
   "cell_type": "code",
   "execution_count": 5,
   "id": "b3c308ad",
   "metadata": {},
   "outputs": [],
   "source": [
    "def cut_data(path, path_to_save, window_size = window_size, \n",
    "             window_offset = window_size, \n",
    "             Fs = Fs, electrodes_to_use = electrodes_to_use):\n",
    "    for elem in tqdm(os.listdir(path)):\n",
    "        data = mne.io.read_raw(path + elem, verbose = False)\n",
    "        \n",
    "        for ch in data.ch_names:\n",
    "            if ch not in electrodes_to_use:\n",
    "                data.drop_channels(ch)\n",
    "        np_data = data[:][0].T\n",
    "        \n",
    "        idx = 1\n",
    "        offset = 0\n",
    "        num_of_samples = Fs * window_size\n",
    "        while np_data[offset : offset + num_of_samples].shape[0] == num_of_samples:\n",
    "            name = elem.split('.')[0]\n",
    "            np.save(path_to_save + f'{name}_patch_{idx}.npy', \n",
    "                    np_data[offset : offset + num_of_samples])\n",
    "            offset += window_offset * Fs\n",
    "            idx += 1"
   ]
  },
  {
   "cell_type": "code",
   "execution_count": 7,
   "id": "2d758e54",
   "metadata": {},
   "outputs": [
    {
     "name": "stderr",
     "output_type": "stream",
     "text": [
      "100%|███████████████████████████████████████████████████████████████████████████████████████████████████████████████████████████████████████████████████████████████████████| 30/30 [00:02<00:00, 13.31it/s]\n",
      "100%|███████████████████████████████████████████████████████████████████████████████████████████████████████████████████████████████████████████████████████████████████████| 30/30 [00:03<00:00,  9.06it/s]\n"
     ]
    }
   ],
   "source": [
    "cut_data('data/kz_clean/health/', 'data_np/kz_clean/health/')\n",
    "cut_data('data/kz_clean/mdd/', 'data_np/kz_clean/mdd/')"
   ]
  },
  {
   "cell_type": "markdown",
   "id": "3d47cbac",
   "metadata": {},
   "source": [
    "# ToDo"
   ]
  },
  {
   "cell_type": "code",
   "execution_count": null,
   "id": "09711578",
   "metadata": {},
   "outputs": [],
   "source": []
  }
 ],
 "metadata": {
  "kernelspec": {
   "display_name": "Python 3 (ipykernel)",
   "language": "python",
   "name": "python3"
  },
  "language_info": {
   "codemirror_mode": {
    "name": "ipython",
    "version": 3
   },
   "file_extension": ".py",
   "mimetype": "text/x-python",
   "name": "python",
   "nbconvert_exporter": "python",
   "pygments_lexer": "ipython3",
   "version": "3.9.10"
  }
 },
 "nbformat": 4,
 "nbformat_minor": 5
}
