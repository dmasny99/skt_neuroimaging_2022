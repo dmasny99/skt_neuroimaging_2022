{
 "cells": [
  {
   "cell_type": "markdown",
   "id": "f0ff2a04",
   "metadata": {},
   "source": [
    "# Messy scripts for some fixes"
   ]
  },
  {
   "cell_type": "code",
   "execution_count": 21,
   "id": "bb03add1",
   "metadata": {},
   "outputs": [],
   "source": [
    "import numpy as np\n",
    "import os"
   ]
  },
  {
   "cell_type": "code",
   "execution_count": 24,
   "id": "eb245afb",
   "metadata": {},
   "outputs": [],
   "source": [
    "logs = 'wavelet_coh_npy_raw/kz_clean/health/logs.txt'\n",
    "unique_set = set()\n",
    "with open(logs, 'r') as f:\n",
    "    for line in f.readlines():\n",
    "        if line not in unique_set:\n",
    "            line = line.strip().split('/')[-1]\n",
    "            unique_set.add(line)"
   ]
  },
  {
   "cell_type": "code",
   "execution_count": 26,
   "id": "b31b1aec",
   "metadata": {},
   "outputs": [
    {
     "data": {
      "text/plain": [
       "424"
      ]
     },
     "execution_count": 26,
     "metadata": {},
     "output_type": "execute_result"
    }
   ],
   "source": [
    "len(unique_set)"
   ]
  },
  {
   "cell_type": "code",
   "execution_count": 27,
   "id": "1aa1a2fc",
   "metadata": {},
   "outputs": [],
   "source": [
    "path ='wavelet_coh_npy_clean/kz_clean/health/'\n",
    "for file in os.listdir(path):\n",
    "    if file == 'logs.txt':\n",
    "        continue\n",
    "    if file in unique_set:\n",
    "        os.remove(path + file)"
   ]
  },
  {
   "cell_type": "code",
   "execution_count": 28,
   "id": "f99cd50c",
   "metadata": {},
   "outputs": [
    {
     "data": {
      "text/plain": [
       "1460"
      ]
     },
     "execution_count": 28,
     "metadata": {},
     "output_type": "execute_result"
    }
   ],
   "source": [
    "len(os.listdir(path))"
   ]
  },
  {
   "cell_type": "code",
   "execution_count": 29,
   "id": "3b50c6bf",
   "metadata": {},
   "outputs": [
    {
     "data": {
      "text/plain": [
       "424"
      ]
     },
     "execution_count": 29,
     "metadata": {},
     "output_type": "execute_result"
    }
   ],
   "source": [
    "len(unique_set)"
   ]
  },
  {
   "cell_type": "code",
   "execution_count": 41,
   "id": "c68128b9",
   "metadata": {},
   "outputs": [],
   "source": [
    "logs = 'wavelet_coh_npy_raw/kz_clean/mdd/logs.txt'\n",
    "unique_set = set()\n",
    "with open(logs, 'r') as f:\n",
    "    for line in f.readlines():\n",
    "        if line not in unique_set:\n",
    "            line = line.strip().split('/')[-1]\n",
    "            unique_set.add(line)"
   ]
  },
  {
   "cell_type": "code",
   "execution_count": 42,
   "id": "8d9e7ed8",
   "metadata": {},
   "outputs": [
    {
     "data": {
      "text/plain": [
       "393"
      ]
     },
     "execution_count": 42,
     "metadata": {},
     "output_type": "execute_result"
    }
   ],
   "source": [
    "len(unique_set)"
   ]
  },
  {
   "cell_type": "code",
   "execution_count": 43,
   "id": "df0c7d1b",
   "metadata": {},
   "outputs": [],
   "source": [
    "path ='clean_wcoh/kz_clean/mdd/'\n",
    "for file in os.listdir(path):\n",
    "    if file == 'logs.txt':\n",
    "        continue\n",
    "    if file in unique_set:\n",
    "        os.remove(path + file)"
   ]
  },
  {
   "cell_type": "code",
   "execution_count": 44,
   "id": "fcc9a814",
   "metadata": {},
   "outputs": [
    {
     "data": {
      "text/plain": [
       "1464"
      ]
     },
     "execution_count": 44,
     "metadata": {},
     "output_type": "execute_result"
    }
   ],
   "source": [
    "len(os.listdir(path))"
   ]
  },
  {
   "cell_type": "code",
   "execution_count": 46,
   "id": "8c8a1b70",
   "metadata": {},
   "outputs": [],
   "source": [
    "valid_files = {'health' : [], 'mdd': []}\n",
    "\n",
    "path = 'clean_wcoh/kz_clean/mdd/'\n",
    "for file in os.listdir(path):\n",
    "    if 'logs' in file:\n",
    "        continue\n",
    "    valid_files['mdd'].append(file)\n",
    "\n",
    "path = 'clean_wcoh/kz_clean/health/'\n",
    "for file in os.listdir(path):\n",
    "    if 'logs' in file:\n",
    "        continue\n",
    "    valid_files['health'].append(file)\n"
   ]
  },
  {
   "cell_type": "code",
   "execution_count": 49,
   "id": "b690e499",
   "metadata": {},
   "outputs": [],
   "source": [
    "np.save('valid_files.npy', valid_files)"
   ]
  },
  {
   "cell_type": "code",
   "execution_count": null,
   "id": "15237df2",
   "metadata": {},
   "outputs": [],
   "source": []
  }
 ],
 "metadata": {
  "kernelspec": {
   "display_name": "Python 3 (ipykernel)",
   "language": "python",
   "name": "python3"
  },
  "language_info": {
   "codemirror_mode": {
    "name": "ipython",
    "version": 3
   },
   "file_extension": ".py",
   "mimetype": "text/x-python",
   "name": "python",
   "nbconvert_exporter": "python",
   "pygments_lexer": "ipython3",
   "version": "3.9.10"
  }
 },
 "nbformat": 4,
 "nbformat_minor": 5
}
