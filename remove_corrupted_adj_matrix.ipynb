{
 "cells": [
  {
   "cell_type": "markdown",
   "id": "15d99b8c",
   "metadata": {},
   "source": [
    "# Messy scripts for some fixes"
   ]
  },
  {
   "cell_type": "code",
   "execution_count": 21,
   "id": "d4610014",
   "metadata": {},
   "outputs": [],
   "source": [
    "import numpy as np\n",
    "import os"
   ]
  },
  {
   "cell_type": "code",
   "execution_count": 24,
   "id": "1488a52a",
   "metadata": {},
   "outputs": [],
   "source": [
    "logs = 'wavelet_coh_npy_raw/kz_clean/health/logs.txt'\n",
    "unique_set = set()\n",
    "with open(logs, 'r') as f:\n",
    "    for line in f.readlines():\n",
    "        if line not in unique_set:\n",
    "            line = line.strip().split('/')[-1]\n",
    "            unique_set.add(line)"
   ]
  },
  {
   "cell_type": "code",
   "execution_count": 26,
   "id": "a5804531",
   "metadata": {},
   "outputs": [
    {
     "data": {
      "text/plain": [
       "424"
      ]
     },
     "execution_count": 26,
     "metadata": {},
     "output_type": "execute_result"
    }
   ],
   "source": [
    "len(unique_set)"
   ]
  },
  {
   "cell_type": "code",
   "execution_count": 27,
   "id": "a703a7ef",
   "metadata": {},
   "outputs": [],
   "source": [
    "path ='wavelet_coh_npy_clean/kz_clean/health/'\n",
    "for file in os.listdir(path):\n",
    "    if file == 'logs.txt':\n",
    "        continue\n",
    "    if file in unique_set:\n",
    "        os.remove(path + file)"
   ]
  },
  {
   "cell_type": "code",
   "execution_count": 28,
   "id": "5bde756e",
   "metadata": {},
   "outputs": [
    {
     "data": {
      "text/plain": [
       "1460"
      ]
     },
     "execution_count": 28,
     "metadata": {},
     "output_type": "execute_result"
    }
   ],
   "source": [
    "len(os.listdir(path))"
   ]
  },
  {
   "cell_type": "code",
   "execution_count": 29,
   "id": "b16fd87d",
   "metadata": {},
   "outputs": [
    {
     "data": {
      "text/plain": [
       "424"
      ]
     },
     "execution_count": 29,
     "metadata": {},
     "output_type": "execute_result"
    }
   ],
   "source": [
    "len(unique_set)"
   ]
  },
  {
   "cell_type": "code",
   "execution_count": 41,
   "id": "d80cb767",
   "metadata": {},
   "outputs": [],
   "source": [
    "logs = 'wavelet_coh_npy_raw/kz_clean/mdd/logs.txt'\n",
    "unique_set = set()\n",
    "with open(logs, 'r') as f:\n",
    "    for line in f.readlines():\n",
    "        if line not in unique_set:\n",
    "            line = line.strip().split('/')[-1]\n",
    "            unique_set.add(line)"
   ]
  },
  {
   "cell_type": "code",
   "execution_count": 42,
   "id": "a994b675",
   "metadata": {},
   "outputs": [
    {
     "data": {
      "text/plain": [
       "393"
      ]
     },
     "execution_count": 42,
     "metadata": {},
     "output_type": "execute_result"
    }
   ],
   "source": [
    "len(unique_set)"
   ]
  },
  {
   "cell_type": "code",
   "execution_count": 43,
   "id": "62bb2ec8",
   "metadata": {},
   "outputs": [],
   "source": [
    "path ='clean_wcoh/kz_clean/mdd/'\n",
    "for file in os.listdir(path):\n",
    "    if file == 'logs.txt':\n",
    "        continue\n",
    "    if file in unique_set:\n",
    "        os.remove(path + file)"
   ]
  },
  {
   "cell_type": "code",
   "execution_count": 44,
   "id": "69d28220",
   "metadata": {},
   "outputs": [
    {
     "data": {
      "text/plain": [
       "1464"
      ]
     },
     "execution_count": 44,
     "metadata": {},
     "output_type": "execute_result"
    }
   ],
   "source": [
    "len(os.listdir(path))"
   ]
  },
  {
   "cell_type": "code",
   "execution_count": 46,
   "id": "7673fb47",
   "metadata": {},
   "outputs": [],
   "source": [
    "valid_files = {'health' : [], 'mdd': []}\n",
    "\n",
    "path = 'clean_wcoh/kz_clean/mdd/'\n",
    "for file in os.listdir(path):\n",
    "    if 'logs' in file:\n",
    "        continue\n",
    "    valid_files['mdd'].append(file)\n",
    "\n",
    "path = 'clean_wcoh/kz_clean/health/'\n",
    "for file in os.listdir(path):\n",
    "    if 'logs' in file:\n",
    "        continue\n",
    "    valid_files['health'].append(file)\n"
   ]
  },
  {
   "cell_type": "code",
   "execution_count": 49,
   "id": "47a847cc",
   "metadata": {},
   "outputs": [],
   "source": [
    "np.save('valid_files.npy', valid_files)"
   ]
  },
  {
   "cell_type": "code",
   "execution_count": null,
   "id": "c9a7c5c5",
   "metadata": {},
   "outputs": [],
   "source": []
  }
 ],
 "metadata": {
  "kernelspec": {
   "display_name": "Python 3 (ipykernel)",
   "language": "python",
   "name": "python3"
  },
  "language_info": {
   "codemirror_mode": {
    "name": "ipython",
    "version": 3
   },
   "file_extension": ".py",
   "mimetype": "text/x-python",
   "name": "python",
   "nbconvert_exporter": "python",
   "pygments_lexer": "ipython3",
   "version": "3.9.10"
  }
 },
 "nbformat": 4,
 "nbformat_minor": 5
}
